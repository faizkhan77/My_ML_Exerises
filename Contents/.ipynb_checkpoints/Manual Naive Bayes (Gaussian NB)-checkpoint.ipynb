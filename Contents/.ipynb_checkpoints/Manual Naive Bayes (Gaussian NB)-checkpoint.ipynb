{
 "cells": [
  {
   "cell_type": "code",
   "execution_count": 1,
   "id": "76ce0973",
   "metadata": {},
   "outputs": [],
   "source": [
    "import pandas as pd\n",
    "import numpy as np\n",
    "import seaborn as sns\n",
    "import matplotlib.pyplot as plt\n",
    "from sklearn.naive_bayes import GaussianNB\n",
    "from sklearn.linear_model import LogisticRegression\n",
    "from sklearn.model_selection import train_test_split, StratifiedKFold, cross_val_score\n",
    "from sklearn.metrics import confusion_matrix\n",
    "from sklearn.preprocessing import OneHotEncoder, LabelEncoder"
   ]
  },
  {
   "cell_type": "code",
   "execution_count": 2,
   "id": "012120a1",
   "metadata": {},
   "outputs": [],
   "source": [
    "df = pd.read_excel(\"test_data_forNaivebayes.xlsx\")"
   ]
  },
  {
   "cell_type": "code",
   "execution_count": 74,
   "id": "63e43abb",
   "metadata": {},
   "outputs": [
    {
     "data": {
      "text/html": [
       "<div>\n",
       "<style scoped>\n",
       "    .dataframe tbody tr th:only-of-type {\n",
       "        vertical-align: middle;\n",
       "    }\n",
       "\n",
       "    .dataframe tbody tr th {\n",
       "        vertical-align: top;\n",
       "    }\n",
       "\n",
       "    .dataframe thead th {\n",
       "        text-align: right;\n",
       "    }\n",
       "</style>\n",
       "<table border=\"1\" class=\"dataframe\">\n",
       "  <thead>\n",
       "    <tr style=\"text-align: right;\">\n",
       "      <th></th>\n",
       "      <th>Email</th>\n",
       "      <th>Free</th>\n",
       "      <th>Win</th>\n",
       "      <th>Class</th>\n",
       "    </tr>\n",
       "  </thead>\n",
       "  <tbody>\n",
       "    <tr>\n",
       "      <th>0</th>\n",
       "      <td>1</td>\n",
       "      <td>1</td>\n",
       "      <td>1</td>\n",
       "      <td>spam</td>\n",
       "    </tr>\n",
       "    <tr>\n",
       "      <th>1</th>\n",
       "      <td>2</td>\n",
       "      <td>1</td>\n",
       "      <td>0</td>\n",
       "      <td>spam</td>\n",
       "    </tr>\n",
       "    <tr>\n",
       "      <th>2</th>\n",
       "      <td>3</td>\n",
       "      <td>0</td>\n",
       "      <td>1</td>\n",
       "      <td>not spam</td>\n",
       "    </tr>\n",
       "    <tr>\n",
       "      <th>3</th>\n",
       "      <td>4</td>\n",
       "      <td>1</td>\n",
       "      <td>1</td>\n",
       "      <td>spam</td>\n",
       "    </tr>\n",
       "    <tr>\n",
       "      <th>4</th>\n",
       "      <td>5</td>\n",
       "      <td>0</td>\n",
       "      <td>0</td>\n",
       "      <td>not spam</td>\n",
       "    </tr>\n",
       "  </tbody>\n",
       "</table>\n",
       "</div>"
      ],
      "text/plain": [
       "   Email  Free  Win     Class\n",
       "0      1     1    1      spam\n",
       "1      2     1    0      spam\n",
       "2      3     0    1  not spam\n",
       "3      4     1    1      spam\n",
       "4      5     0    0  not spam"
      ]
     },
     "execution_count": 74,
     "metadata": {},
     "output_type": "execute_result"
    }
   ],
   "source": [
    "df"
   ]
  },
  {
   "cell_type": "code",
   "execution_count": 75,
   "id": "730b1562",
   "metadata": {},
   "outputs": [],
   "source": [
    "X = df.drop(['Class', 'Email'], axis=1)\n",
    "y = df['Class']"
   ]
  },
  {
   "cell_type": "markdown",
   "id": "c616bbd4",
   "metadata": {},
   "source": [
    "# CROSS VALIDATION"
   ]
  },
  {
   "cell_type": "code",
   "execution_count": 132,
   "id": "61c6dfbc",
   "metadata": {},
   "outputs": [
    {
     "data": {
      "text/plain": [
       "0.8333333333333333"
      ]
     },
     "execution_count": 132,
     "metadata": {},
     "output_type": "execute_result"
    }
   ],
   "source": [
    "cross_val_score(GaussianNB(), X, y, cv=2).mean()"
   ]
  },
  {
   "cell_type": "code",
   "execution_count": 133,
   "id": "6a946d55",
   "metadata": {},
   "outputs": [
    {
     "data": {
      "text/plain": [
       "0.5833333333333333"
      ]
     },
     "execution_count": 133,
     "metadata": {},
     "output_type": "execute_result"
    }
   ],
   "source": [
    "cross_val_score(LogisticRegression(), X, y, cv=2).mean()"
   ]
  },
  {
   "cell_type": "markdown",
   "id": "f1ef00ad",
   "metadata": {},
   "source": [
    "# First using SKLearn (Gaussian NB)"
   ]
  },
  {
   "cell_type": "code",
   "execution_count": 122,
   "id": "a365cbde",
   "metadata": {},
   "outputs": [],
   "source": [
    "X_train, X_test, y_train, y_test = train_test_split(X, y, test_size=0.2)"
   ]
  },
  {
   "cell_type": "code",
   "execution_count": 123,
   "id": "b8dd6706",
   "metadata": {},
   "outputs": [
    {
     "data": {
      "text/plain": [
       "1.0"
      ]
     },
     "execution_count": 123,
     "metadata": {},
     "output_type": "execute_result"
    }
   ],
   "source": [
    "model = GaussianNB()\n",
    "model.fit(X_train, y_train)\n",
    "model.score(X_test, y_test)"
   ]
  },
  {
   "cell_type": "code",
   "execution_count": 112,
   "id": "f239cd8e",
   "metadata": {},
   "outputs": [
    {
     "name": "stderr",
     "output_type": "stream",
     "text": [
      "C:\\Users\\User\\AppData\\Local\\Programs\\Python\\Python311\\Lib\\site-packages\\sklearn\\base.py:465: UserWarning: X does not have valid feature names, but GaussianNB was fitted with feature names\n",
      "  warnings.warn(\n"
     ]
    },
    {
     "data": {
      "text/plain": [
       "array(['spam'], dtype='<U8')"
      ]
     },
     "execution_count": 112,
     "metadata": {},
     "output_type": "execute_result"
    }
   ],
   "source": [
    "model.predict([[1,1]])"
   ]
  },
  {
   "cell_type": "code",
   "execution_count": 113,
   "id": "981002ef",
   "metadata": {},
   "outputs": [
    {
     "name": "stderr",
     "output_type": "stream",
     "text": [
      "C:\\Users\\User\\AppData\\Local\\Programs\\Python\\Python311\\Lib\\site-packages\\sklearn\\base.py:465: UserWarning: X does not have valid feature names, but GaussianNB was fitted with feature names\n",
      "  warnings.warn(\n"
     ]
    },
    {
     "data": {
      "text/plain": [
       "array([[0., 1.]])"
      ]
     },
     "execution_count": 113,
     "metadata": {},
     "output_type": "execute_result"
    }
   ],
   "source": [
    "model.predict_proba([[1,1]])"
   ]
  },
  {
   "cell_type": "markdown",
   "id": "67c0900c",
   "metadata": {},
   "source": [
    "# NOW DOING IT MANUALLY"
   ]
  },
  {
   "cell_type": "markdown",
   "id": "27850f00",
   "metadata": {},
   "source": [
    "### step 1: Calculate the probaility for each class"
   ]
  },
  {
   "cell_type": "code",
   "execution_count": 80,
   "id": "3f2c0132",
   "metadata": {},
   "outputs": [],
   "source": [
    "num_of_spam = len(df[df['Class']==\"spam\"])\n",
    "total_mail = len(df)\n",
    "p_spam = num_of_spam/total_mail"
   ]
  },
  {
   "cell_type": "code",
   "execution_count": 81,
   "id": "581ea82a",
   "metadata": {},
   "outputs": [],
   "source": [
    "num_of_notspam = len(df[df['Class']==\"not spam\"])\n",
    "p_notspam = num_of_notspam/total_mail"
   ]
  },
  {
   "cell_type": "markdown",
   "id": "3a7d1b99",
   "metadata": {},
   "source": [
    "### step 2: Calculate likelihoods"
   ]
  },
  {
   "cell_type": "code",
   "execution_count": 82,
   "id": "f642cce6",
   "metadata": {},
   "outputs": [
    {
     "data": {
      "text/plain": [
       "1.0"
      ]
     },
     "execution_count": 82,
     "metadata": {},
     "output_type": "execute_result"
    }
   ],
   "source": [
    "numof_spam_withfree = len(df[ (df['Class']=='spam') & (df['Free']==1) ])\n",
    "p_free_spam = numof_spam_withfree/num_of_spam\n",
    "p_free_spam"
   ]
  },
  {
   "cell_type": "code",
   "execution_count": 83,
   "id": "b12d60bf",
   "metadata": {},
   "outputs": [
    {
     "data": {
      "text/plain": [
       "0.0"
      ]
     },
     "execution_count": 83,
     "metadata": {},
     "output_type": "execute_result"
    }
   ],
   "source": [
    "numof_notspam_withfree = len(df[ (df['Class']=='not spam') & (df['Free']==1) ])\n",
    "p_free_notspam = numof_notspam_withfree / num_of_spam\n",
    "p_free_notspam"
   ]
  },
  {
   "cell_type": "code",
   "execution_count": 84,
   "id": "3fa63a95",
   "metadata": {},
   "outputs": [
    {
     "data": {
      "text/plain": [
       "0.6666666666666666"
      ]
     },
     "execution_count": 84,
     "metadata": {},
     "output_type": "execute_result"
    }
   ],
   "source": [
    "numof_spam_withwin = len(df[ (df['Class']=='spam') & (df['Win']==1) ])\n",
    "p_win_spam = numof_spam_withwin/num_of_spam\n",
    "p_win_spam"
   ]
  },
  {
   "cell_type": "code",
   "execution_count": 88,
   "id": "20b078d7",
   "metadata": {},
   "outputs": [
    {
     "data": {
      "text/plain": [
       "0.5"
      ]
     },
     "execution_count": 88,
     "metadata": {},
     "output_type": "execute_result"
    }
   ],
   "source": [
    "numof_notspam_withwin = len(df[ (df['Class']=='not spam') & (df['Win']==1) ])\n",
    "p_win_notspam = numof_notspam_withwin/num_of_notspam\n",
    "p_win_notspam"
   ]
  },
  {
   "cell_type": "markdown",
   "id": "98522381",
   "metadata": {},
   "source": [
    "### step 3: Calculate Posterior Probability for a new Email\n",
    "\n",
    "Lets say the new Email has both the word Free and Win"
   ]
  },
  {
   "cell_type": "code",
   "execution_count": 107,
   "id": "224b54c0",
   "metadata": {},
   "outputs": [
    {
     "data": {
      "text/plain": [
       "0.39999999999999997"
      ]
     },
     "execution_count": 107,
     "metadata": {},
     "output_type": "execute_result"
    }
   ],
   "source": [
    "p_spam_freeandwin = p_free_spam * p_win_spam * p_spam\n",
    "p_spam_freeandwin"
   ]
  },
  {
   "cell_type": "code",
   "execution_count": 108,
   "id": "09ac895f",
   "metadata": {},
   "outputs": [
    {
     "data": {
      "text/plain": [
       "0.0"
      ]
     },
     "execution_count": 108,
     "metadata": {},
     "output_type": "execute_result"
    }
   ],
   "source": [
    "p_notspam_freeandwin = p_free_notspam * p_win_notspam * p_notspam\n",
    "p_notspam_freeandwin"
   ]
  },
  {
   "cell_type": "markdown",
   "id": "e21d26e8",
   "metadata": {},
   "source": [
    "### 4. Predict"
   ]
  },
  {
   "cell_type": "code",
   "execution_count": 114,
   "id": "93045424",
   "metadata": {},
   "outputs": [
    {
     "data": {
      "text/plain": [
       "1.0"
      ]
     },
     "execution_count": 114,
     "metadata": {},
     "output_type": "execute_result"
    }
   ],
   "source": [
    "p_spam_freeandwin / p_spam_freeandwin"
   ]
  },
  {
   "cell_type": "code",
   "execution_count": 120,
   "id": "0b284ce1",
   "metadata": {},
   "outputs": [
    {
     "ename": "ZeroDivisionError",
     "evalue": "float division by zero",
     "output_type": "error",
     "traceback": [
      "\u001b[1;31m---------------------------------------------------------------------------\u001b[0m",
      "\u001b[1;31mZeroDivisionError\u001b[0m                         Traceback (most recent call last)",
      "Cell \u001b[1;32mIn[120], line 1\u001b[0m\n\u001b[1;32m----> 1\u001b[0m \u001b[43mp_notspam_freeandwin\u001b[49m\u001b[43m \u001b[49m\u001b[38;5;241;43m/\u001b[39;49m\u001b[43m \u001b[49m\u001b[43mp_notspam_freeandwin\u001b[49m\n",
      "\u001b[1;31mZeroDivisionError\u001b[0m: float division by zero"
     ]
    }
   ],
   "source": [
    "p_notspam_freeandwin / p_notspam_freeandwin"
   ]
  },
  {
   "cell_type": "code",
   "execution_count": 121,
   "id": "78a0d798",
   "metadata": {},
   "outputs": [
    {
     "data": {
      "text/plain": [
       "True"
      ]
     },
     "execution_count": 121,
     "metadata": {},
     "output_type": "execute_result"
    }
   ],
   "source": [
    "p_spam_freeandwin > p_notspam_freeandwin"
   ]
  },
  {
   "cell_type": "markdown",
   "id": "c921501e",
   "metadata": {},
   "source": [
    "Hence, the new Email is a SPAM"
   ]
  }
 ],
 "metadata": {
  "kernelspec": {
   "display_name": "Python 3 (ipykernel)",
   "language": "python",
   "name": "python3"
  },
  "language_info": {
   "codemirror_mode": {
    "name": "ipython",
    "version": 3
   },
   "file_extension": ".py",
   "mimetype": "text/x-python",
   "name": "python",
   "nbconvert_exporter": "python",
   "pygments_lexer": "ipython3",
   "version": "3.11.1"
  }
 },
 "nbformat": 4,
 "nbformat_minor": 5
}
