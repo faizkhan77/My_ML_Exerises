{
 "cells": [
  {
   "cell_type": "code",
   "execution_count": 2,
   "id": "ea8f5eaf",
   "metadata": {},
   "outputs": [],
   "source": [
    "import pandas as pd"
   ]
  },
  {
   "cell_type": "code",
   "execution_count": 3,
   "id": "cddba6e9",
   "metadata": {},
   "outputs": [],
   "source": [
    "df = pd.read_csv(\"C:\\\\Users\\\\User\\\\OneDrive\\\\Documents\\\\Faiz Khan Program\\\\Machine Learning\\\\ML with codebasics\\\\titanic2.csv\")"
   ]
  },
  {
   "cell_type": "code",
   "execution_count": 5,
   "id": "8951b849",
   "metadata": {},
   "outputs": [
    {
     "data": {
      "text/html": [
       "<div>\n",
       "<style scoped>\n",
       "    .dataframe tbody tr th:only-of-type {\n",
       "        vertical-align: middle;\n",
       "    }\n",
       "\n",
       "    .dataframe tbody tr th {\n",
       "        vertical-align: top;\n",
       "    }\n",
       "\n",
       "    .dataframe thead th {\n",
       "        text-align: right;\n",
       "    }\n",
       "</style>\n",
       "<table border=\"1\" class=\"dataframe\">\n",
       "  <thead>\n",
       "    <tr style=\"text-align: right;\">\n",
       "      <th></th>\n",
       "      <th>PassengerId</th>\n",
       "      <th>Name</th>\n",
       "      <th>Pclass</th>\n",
       "      <th>Sex</th>\n",
       "      <th>Age</th>\n",
       "      <th>SibSp</th>\n",
       "      <th>Parch</th>\n",
       "      <th>Ticket</th>\n",
       "      <th>Fare</th>\n",
       "      <th>Cabin</th>\n",
       "      <th>Embarked</th>\n",
       "      <th>Survived</th>\n",
       "    </tr>\n",
       "  </thead>\n",
       "  <tbody>\n",
       "    <tr>\n",
       "      <th>0</th>\n",
       "      <td>1</td>\n",
       "      <td>Braund, Mr. Owen Harris</td>\n",
       "      <td>3</td>\n",
       "      <td>male</td>\n",
       "      <td>22.0</td>\n",
       "      <td>1</td>\n",
       "      <td>0</td>\n",
       "      <td>A/5 21171</td>\n",
       "      <td>7.2500</td>\n",
       "      <td>NaN</td>\n",
       "      <td>S</td>\n",
       "      <td>0</td>\n",
       "    </tr>\n",
       "    <tr>\n",
       "      <th>1</th>\n",
       "      <td>2</td>\n",
       "      <td>Cumings, Mrs. John Bradley (Florence Briggs Th...</td>\n",
       "      <td>1</td>\n",
       "      <td>female</td>\n",
       "      <td>38.0</td>\n",
       "      <td>1</td>\n",
       "      <td>0</td>\n",
       "      <td>PC 17599</td>\n",
       "      <td>71.2833</td>\n",
       "      <td>C85</td>\n",
       "      <td>C</td>\n",
       "      <td>1</td>\n",
       "    </tr>\n",
       "    <tr>\n",
       "      <th>2</th>\n",
       "      <td>3</td>\n",
       "      <td>Heikkinen, Miss. Laina</td>\n",
       "      <td>3</td>\n",
       "      <td>female</td>\n",
       "      <td>26.0</td>\n",
       "      <td>0</td>\n",
       "      <td>0</td>\n",
       "      <td>STON/O2. 3101282</td>\n",
       "      <td>7.9250</td>\n",
       "      <td>NaN</td>\n",
       "      <td>S</td>\n",
       "      <td>1</td>\n",
       "    </tr>\n",
       "    <tr>\n",
       "      <th>3</th>\n",
       "      <td>4</td>\n",
       "      <td>Futrelle, Mrs. Jacques Heath (Lily May Peel)</td>\n",
       "      <td>1</td>\n",
       "      <td>female</td>\n",
       "      <td>35.0</td>\n",
       "      <td>1</td>\n",
       "      <td>0</td>\n",
       "      <td>113803</td>\n",
       "      <td>53.1000</td>\n",
       "      <td>C123</td>\n",
       "      <td>S</td>\n",
       "      <td>1</td>\n",
       "    </tr>\n",
       "    <tr>\n",
       "      <th>4</th>\n",
       "      <td>5</td>\n",
       "      <td>Allen, Mr. William Henry</td>\n",
       "      <td>3</td>\n",
       "      <td>male</td>\n",
       "      <td>35.0</td>\n",
       "      <td>0</td>\n",
       "      <td>0</td>\n",
       "      <td>373450</td>\n",
       "      <td>8.0500</td>\n",
       "      <td>NaN</td>\n",
       "      <td>S</td>\n",
       "      <td>0</td>\n",
       "    </tr>\n",
       "  </tbody>\n",
       "</table>\n",
       "</div>"
      ],
      "text/plain": [
       "   PassengerId                                               Name  Pclass  \\\n",
       "0            1                            Braund, Mr. Owen Harris       3   \n",
       "1            2  Cumings, Mrs. John Bradley (Florence Briggs Th...       1   \n",
       "2            3                             Heikkinen, Miss. Laina       3   \n",
       "3            4       Futrelle, Mrs. Jacques Heath (Lily May Peel)       1   \n",
       "4            5                           Allen, Mr. William Henry       3   \n",
       "\n",
       "      Sex   Age  SibSp  Parch            Ticket     Fare Cabin Embarked  \\\n",
       "0    male  22.0      1      0         A/5 21171   7.2500   NaN        S   \n",
       "1  female  38.0      1      0          PC 17599  71.2833   C85        C   \n",
       "2  female  26.0      0      0  STON/O2. 3101282   7.9250   NaN        S   \n",
       "3  female  35.0      1      0            113803  53.1000  C123        S   \n",
       "4    male  35.0      0      0            373450   8.0500   NaN        S   \n",
       "\n",
       "   Survived  \n",
       "0         0  \n",
       "1         1  \n",
       "2         1  \n",
       "3         1  \n",
       "4         0  "
      ]
     },
     "execution_count": 5,
     "metadata": {},
     "output_type": "execute_result"
    }
   ],
   "source": [
    "df.head()"
   ]
  },
  {
   "cell_type": "code",
   "execution_count": 7,
   "id": "529316d8",
   "metadata": {},
   "outputs": [
    {
     "data": {
      "text/plain": [
       "(891, 12)"
      ]
     },
     "execution_count": 7,
     "metadata": {},
     "output_type": "execute_result"
    }
   ],
   "source": [
    "df.shape"
   ]
  },
  {
   "cell_type": "markdown",
   "id": "7dd0f16b",
   "metadata": {},
   "source": [
    "So we can see that some vairables doesnt haave any impact and it doesnt matter if we drop them, for example Name, it doesnt have any impact, so we will drop those variables which doesnt seem to be imprttant"
   ]
  },
  {
   "cell_type": "code",
   "execution_count": 8,
   "id": "2113ab76",
   "metadata": {},
   "outputs": [
    {
     "data": {
      "text/html": [
       "<div>\n",
       "<style scoped>\n",
       "    .dataframe tbody tr th:only-of-type {\n",
       "        vertical-align: middle;\n",
       "    }\n",
       "\n",
       "    .dataframe tbody tr th {\n",
       "        vertical-align: top;\n",
       "    }\n",
       "\n",
       "    .dataframe thead th {\n",
       "        text-align: right;\n",
       "    }\n",
       "</style>\n",
       "<table border=\"1\" class=\"dataframe\">\n",
       "  <thead>\n",
       "    <tr style=\"text-align: right;\">\n",
       "      <th></th>\n",
       "      <th>Pclass</th>\n",
       "      <th>Sex</th>\n",
       "      <th>Age</th>\n",
       "      <th>Fare</th>\n",
       "      <th>Survived</th>\n",
       "    </tr>\n",
       "  </thead>\n",
       "  <tbody>\n",
       "    <tr>\n",
       "      <th>0</th>\n",
       "      <td>3</td>\n",
       "      <td>male</td>\n",
       "      <td>22.0</td>\n",
       "      <td>7.2500</td>\n",
       "      <td>0</td>\n",
       "    </tr>\n",
       "    <tr>\n",
       "      <th>1</th>\n",
       "      <td>1</td>\n",
       "      <td>female</td>\n",
       "      <td>38.0</td>\n",
       "      <td>71.2833</td>\n",
       "      <td>1</td>\n",
       "    </tr>\n",
       "    <tr>\n",
       "      <th>2</th>\n",
       "      <td>3</td>\n",
       "      <td>female</td>\n",
       "      <td>26.0</td>\n",
       "      <td>7.9250</td>\n",
       "      <td>1</td>\n",
       "    </tr>\n",
       "    <tr>\n",
       "      <th>3</th>\n",
       "      <td>1</td>\n",
       "      <td>female</td>\n",
       "      <td>35.0</td>\n",
       "      <td>53.1000</td>\n",
       "      <td>1</td>\n",
       "    </tr>\n",
       "    <tr>\n",
       "      <th>4</th>\n",
       "      <td>3</td>\n",
       "      <td>male</td>\n",
       "      <td>35.0</td>\n",
       "      <td>8.0500</td>\n",
       "      <td>0</td>\n",
       "    </tr>\n",
       "  </tbody>\n",
       "</table>\n",
       "</div>"
      ],
      "text/plain": [
       "   Pclass     Sex   Age     Fare  Survived\n",
       "0       3    male  22.0   7.2500         0\n",
       "1       1  female  38.0  71.2833         1\n",
       "2       3  female  26.0   7.9250         1\n",
       "3       1  female  35.0  53.1000         1\n",
       "4       3    male  35.0   8.0500         0"
      ]
     },
     "execution_count": 8,
     "metadata": {},
     "output_type": "execute_result"
    }
   ],
   "source": [
    "df.drop(['PassengerId','Name','SibSp','Parch','Ticket','Cabin','Embarked'],axis='columns'\n",
    "          ,inplace=True)\n",
    "df.head()"
   ]
  },
  {
   "cell_type": "code",
   "execution_count": 14,
   "id": "c3cac173",
   "metadata": {},
   "outputs": [],
   "source": [
    "X = df.drop(['Survived'], axis=1)\n",
    "y = df['Survived']"
   ]
  },
  {
   "cell_type": "markdown",
   "id": "d457d0d1",
   "metadata": {},
   "source": [
    "ow we will turn the 'Sex' column into a numerical value using OneHotEncoding or dummy variable"
   ]
  },
  {
   "cell_type": "code",
   "execution_count": 15,
   "id": "16fc77ac",
   "metadata": {},
   "outputs": [
    {
     "name": "stderr",
     "output_type": "stream",
     "text": [
      "C:\\Users\\User\\AppData\\Local\\Programs\\Python\\Python311\\Lib\\site-packages\\sklearn\\preprocessing\\_encoders.py:975: FutureWarning: `sparse` was renamed to `sparse_output` in version 1.2 and will be removed in 1.4. `sparse_output` is ignored unless you leave `sparse` to its default value.\n",
      "  warnings.warn(\n"
     ]
    }
   ],
   "source": [
    "from sklearn.preprocessing import OneHotEncoder\n",
    "encoder = OneHotEncoder(sparse=False)\n",
    "encoded_col = encoder.fit_transform(X[['Sex']])"
   ]
  },
  {
   "cell_type": "code",
   "execution_count": 20,
   "id": "b314ddb7",
   "metadata": {},
   "outputs": [],
   "source": [
    "encoded_df = pd.DataFrame(encoded_col, columns=encoder.get_feature_names_out(['Sex']))\n",
    "X = pd.concat([X, encoded_df], axis=1)"
   ]
  },
  {
   "cell_type": "code",
   "execution_count": 22,
   "id": "a94d7313",
   "metadata": {},
   "outputs": [],
   "source": [
    "X.drop(['Sex'], axis=1, inplace=True)"
   ]
  },
  {
   "cell_type": "code",
   "execution_count": 25,
   "id": "a017aa96",
   "metadata": {},
   "outputs": [
    {
     "data": {
      "text/html": [
       "<div>\n",
       "<style scoped>\n",
       "    .dataframe tbody tr th:only-of-type {\n",
       "        vertical-align: middle;\n",
       "    }\n",
       "\n",
       "    .dataframe tbody tr th {\n",
       "        vertical-align: top;\n",
       "    }\n",
       "\n",
       "    .dataframe thead th {\n",
       "        text-align: right;\n",
       "    }\n",
       "</style>\n",
       "<table border=\"1\" class=\"dataframe\">\n",
       "  <thead>\n",
       "    <tr style=\"text-align: right;\">\n",
       "      <th></th>\n",
       "      <th>Pclass</th>\n",
       "      <th>Age</th>\n",
       "      <th>Fare</th>\n",
       "      <th>Sex_female</th>\n",
       "      <th>Sex_male</th>\n",
       "    </tr>\n",
       "  </thead>\n",
       "  <tbody>\n",
       "    <tr>\n",
       "      <th>0</th>\n",
       "      <td>3</td>\n",
       "      <td>22</td>\n",
       "      <td>7</td>\n",
       "      <td>0</td>\n",
       "      <td>1</td>\n",
       "    </tr>\n",
       "    <tr>\n",
       "      <th>1</th>\n",
       "      <td>1</td>\n",
       "      <td>38</td>\n",
       "      <td>71</td>\n",
       "      <td>1</td>\n",
       "      <td>0</td>\n",
       "    </tr>\n",
       "    <tr>\n",
       "      <th>2</th>\n",
       "      <td>3</td>\n",
       "      <td>26</td>\n",
       "      <td>8</td>\n",
       "      <td>1</td>\n",
       "      <td>0</td>\n",
       "    </tr>\n",
       "    <tr>\n",
       "      <th>3</th>\n",
       "      <td>1</td>\n",
       "      <td>35</td>\n",
       "      <td>53</td>\n",
       "      <td>1</td>\n",
       "      <td>0</td>\n",
       "    </tr>\n",
       "    <tr>\n",
       "      <th>4</th>\n",
       "      <td>3</td>\n",
       "      <td>35</td>\n",
       "      <td>8</td>\n",
       "      <td>0</td>\n",
       "      <td>1</td>\n",
       "    </tr>\n",
       "    <tr>\n",
       "      <th>...</th>\n",
       "      <td>...</td>\n",
       "      <td>...</td>\n",
       "      <td>...</td>\n",
       "      <td>...</td>\n",
       "      <td>...</td>\n",
       "    </tr>\n",
       "    <tr>\n",
       "      <th>886</th>\n",
       "      <td>2</td>\n",
       "      <td>27</td>\n",
       "      <td>13</td>\n",
       "      <td>0</td>\n",
       "      <td>1</td>\n",
       "    </tr>\n",
       "    <tr>\n",
       "      <th>887</th>\n",
       "      <td>1</td>\n",
       "      <td>19</td>\n",
       "      <td>30</td>\n",
       "      <td>1</td>\n",
       "      <td>0</td>\n",
       "    </tr>\n",
       "    <tr>\n",
       "      <th>888</th>\n",
       "      <td>3</td>\n",
       "      <td>NaN</td>\n",
       "      <td>23</td>\n",
       "      <td>1</td>\n",
       "      <td>0</td>\n",
       "    </tr>\n",
       "    <tr>\n",
       "      <th>889</th>\n",
       "      <td>1</td>\n",
       "      <td>26</td>\n",
       "      <td>30</td>\n",
       "      <td>0</td>\n",
       "      <td>1</td>\n",
       "    </tr>\n",
       "    <tr>\n",
       "      <th>890</th>\n",
       "      <td>3</td>\n",
       "      <td>32</td>\n",
       "      <td>8</td>\n",
       "      <td>0</td>\n",
       "      <td>1</td>\n",
       "    </tr>\n",
       "  </tbody>\n",
       "</table>\n",
       "<p>891 rows × 5 columns</p>\n",
       "</div>"
      ],
      "text/plain": [
       "     Pclass  Age  Fare  Sex_female  Sex_male\n",
       "0         3   22     7           0         1\n",
       "1         1   38    71           1         0\n",
       "2         3   26     8           1         0\n",
       "3         1   35    53           1         0\n",
       "4         3   35     8           0         1\n",
       "..      ...  ...   ...         ...       ...\n",
       "886       2   27    13           0         1\n",
       "887       1   19    30           1         0\n",
       "888       3  NaN    23           1         0\n",
       "889       1   26    30           0         1\n",
       "890       3   32     8           0         1\n",
       "\n",
       "[891 rows x 5 columns]"
      ]
     },
     "execution_count": 25,
     "metadata": {},
     "output_type": "execute_result"
    }
   ],
   "source": [
    "pd.options.display.float_format = '{:.0f}'.format\n",
    "X"
   ]
  },
  {
   "cell_type": "markdown",
   "id": "f231b207",
   "metadata": {},
   "source": [
    "Lets also find out if there is NaN value"
   ]
  },
  {
   "cell_type": "code",
   "execution_count": 26,
   "id": "7ab906c4",
   "metadata": {},
   "outputs": [
    {
     "data": {
      "text/plain": [
       "Pclass          0\n",
       "Age           177\n",
       "Fare            0\n",
       "Sex_female      0\n",
       "Sex_male        0\n",
       "dtype: int64"
      ]
     },
     "execution_count": 26,
     "metadata": {},
     "output_type": "execute_result"
    }
   ],
   "source": [
    "X.isna().sum()"
   ]
  },
  {
   "cell_type": "markdown",
   "id": "acfd882f",
   "metadata": {},
   "source": [
    "We can see that it tells us that the 'Age' column has some NaN value. lets replace it with mean values of Age"
   ]
  },
  {
   "cell_type": "code",
   "execution_count": 31,
   "id": "9f8b635f",
   "metadata": {},
   "outputs": [],
   "source": [
    "X.Age.fillna(X.Age.mean(), inplace=True)"
   ]
  },
  {
   "cell_type": "code",
   "execution_count": 32,
   "id": "1ec29f36",
   "metadata": {},
   "outputs": [
    {
     "data": {
      "text/plain": [
       "Pclass        0\n",
       "Age           0\n",
       "Fare          0\n",
       "Sex_female    0\n",
       "Sex_male      0\n",
       "dtype: int64"
      ]
     },
     "execution_count": 32,
     "metadata": {},
     "output_type": "execute_result"
    }
   ],
   "source": [
    "X.isna().sum()"
   ]
  },
  {
   "cell_type": "markdown",
   "id": "c2783f8b",
   "metadata": {},
   "source": [
    "# Train Test split"
   ]
  },
  {
   "cell_type": "code",
   "execution_count": 33,
   "id": "74c38d50",
   "metadata": {},
   "outputs": [],
   "source": [
    "from sklearn.model_selection import train_test_split\n",
    "X_train, X_test, y_train, y_test = train_test_split(X, y, test_size=0.2)"
   ]
  },
  {
   "cell_type": "markdown",
   "id": "68d9b3d1",
   "metadata": {},
   "source": [
    "# Naive Bayes model"
   ]
  },
  {
   "cell_type": "markdown",
   "id": "a9ebd61f",
   "metadata": {},
   "source": [
    "Now there are couple of Naive bayes classes but we are going to use 'GaussianNB'. u use this when ur data distribution is normal"
   ]
  },
  {
   "cell_type": "code",
   "execution_count": 35,
   "id": "c2e9d8d1",
   "metadata": {},
   "outputs": [
    {
     "data": {
      "text/plain": [
       "0.776536312849162"
      ]
     },
     "execution_count": 35,
     "metadata": {},
     "output_type": "execute_result"
    }
   ],
   "source": [
    "from sklearn.naive_bayes import GaussianNB\n",
    "model = GaussianNB()\n",
    "model.fit(X_train, y_train)\n",
    "model.score(X_test, y_test)"
   ]
  },
  {
   "cell_type": "code",
   "execution_count": 36,
   "id": "e50f5308",
   "metadata": {},
   "outputs": [],
   "source": [
    "predict= model.predict(X_test)"
   ]
  },
  {
   "cell_type": "code",
   "execution_count": 38,
   "id": "78d0e613",
   "metadata": {},
   "outputs": [
    {
     "data": {
      "text/plain": [
       "40"
      ]
     },
     "execution_count": 38,
     "metadata": {},
     "output_type": "execute_result"
    }
   ],
   "source": [
    "(predict != y_test).sum()"
   ]
  },
  {
   "cell_type": "code",
   "execution_count": 40,
   "id": "f73e4177",
   "metadata": {},
   "outputs": [
    {
     "data": {
      "text/plain": [
       "array([0, 1, 1, 0, 1, 0, 1, 0, 0, 1, 0, 1, 0, 0, 0, 0, 0, 1, 0, 0, 1, 0,\n",
       "       1, 1, 0, 1, 0, 1, 1, 0, 0, 0, 1, 0, 1, 0, 1, 0, 1, 0, 0, 0, 0, 1,\n",
       "       0, 0, 1, 0, 0, 0, 0, 1, 0, 1, 0, 1, 0, 0, 0, 1, 0, 0, 0, 1, 0, 0,\n",
       "       0, 1, 0, 1, 1, 0, 0, 1, 0, 0, 0, 1, 1, 0, 0, 0, 0, 1, 1, 0, 0, 0,\n",
       "       1, 0, 0, 0, 0, 1, 1, 1, 0, 1, 0, 0, 0, 0, 0, 0, 1, 1, 1, 0, 0, 0,\n",
       "       1, 0, 1, 0, 0, 0, 1, 1, 0, 0, 0, 0, 0, 0, 0, 0, 0, 0, 1, 1, 1, 0,\n",
       "       0, 0, 0, 0, 0, 0, 0, 0, 0, 0, 1, 0, 0, 0, 0, 1, 0, 0, 1, 0, 1, 0,\n",
       "       0, 0, 0, 1, 0, 0, 1, 1, 0, 0, 0, 0, 0, 0, 0, 0, 0, 0, 1, 0, 0, 0,\n",
       "       0, 1, 1], dtype=int64)"
      ]
     },
     "execution_count": 40,
     "metadata": {},
     "output_type": "execute_result"
    }
   ],
   "source": [
    "predict"
   ]
  },
  {
   "cell_type": "markdown",
   "id": "31803bed",
   "metadata": {},
   "source": [
    "Checking the probability of the datas being a survival or not"
   ]
  },
  {
   "cell_type": "code",
   "execution_count": 39,
   "id": "170284ec",
   "metadata": {},
   "outputs": [
    {
     "data": {
      "text/plain": [
       "array([[9.77710252e-01, 2.22897482e-02],\n",
       "       [5.63076127e-02, 9.43692387e-01],\n",
       "       [4.65914364e-11, 1.00000000e+00],\n",
       "       [9.26576118e-01, 7.34238823e-02],\n",
       "       [3.24206323e-02, 9.67579368e-01],\n",
       "       [9.90812995e-01, 9.18700528e-03],\n",
       "       [2.34462841e-04, 9.99765537e-01],\n",
       "       [9.82377126e-01, 1.76228737e-02],\n",
       "       [9.89906243e-01, 1.00937566e-02],\n",
       "       [4.52808319e-03, 9.95471917e-01],\n",
       "       [9.73816630e-01, 2.61833704e-02],\n",
       "       [6.99239906e-03, 9.93007601e-01],\n",
       "       [9.77871679e-01, 2.21283206e-02],\n",
       "       [9.90732608e-01, 9.26739220e-03],\n",
       "       [9.78940920e-01, 2.10590802e-02],\n",
       "       [9.90771013e-01, 9.22898667e-03],\n",
       "       [9.77712093e-01, 2.22879068e-02],\n",
       "       [5.82264377e-02, 9.41773562e-01],\n",
       "       [9.88867641e-01, 1.11323586e-02],\n",
       "       [9.17231430e-01, 8.27685699e-02],\n",
       "       [6.11593309e-02, 9.38840669e-01],\n",
       "       [9.25372876e-01, 7.46271241e-02],\n",
       "       [1.29958797e-01, 8.70041203e-01],\n",
       "       [1.13530723e-03, 9.98864693e-01],\n",
       "       [9.89524942e-01, 1.04750583e-02],\n",
       "       [6.74962425e-02, 9.32503758e-01],\n",
       "       [9.89879297e-01, 1.01207028e-02],\n",
       "       [6.71857649e-02, 9.32814235e-01],\n",
       "       [3.26658341e-02, 9.67334166e-01],\n",
       "       [9.89088306e-01, 1.09116944e-02],\n",
       "       [9.90195582e-01, 9.80441848e-03],\n",
       "       [9.90392157e-01, 9.60784258e-03],\n",
       "       [4.77888216e-03, 9.95221118e-01],\n",
       "       [8.86709373e-01, 1.13290627e-01],\n",
       "       [5.46145886e-02, 9.45385411e-01],\n",
       "       [9.88568868e-01, 1.14311321e-02],\n",
       "       [5.19809017e-37, 1.00000000e+00],\n",
       "       [9.76026216e-01, 2.39737839e-02],\n",
       "       [5.82433047e-02, 9.41756695e-01],\n",
       "       [9.90412245e-01, 9.58775489e-03],\n",
       "       [9.05481808e-01, 9.45181924e-02],\n",
       "       [9.90408103e-01, 9.59189657e-03],\n",
       "       [9.79591545e-01, 2.04084547e-02],\n",
       "       [6.72124192e-02, 9.32787581e-01],\n",
       "       [9.27667880e-01, 7.23321204e-02],\n",
       "       [9.77380334e-01, 2.26196662e-02],\n",
       "       [6.73693376e-02, 9.32630662e-01],\n",
       "       [9.90270683e-01, 9.72931671e-03],\n",
       "       [9.89682708e-01, 1.03172916e-02],\n",
       "       [9.77380334e-01, 2.26196662e-02],\n",
       "       [9.79607185e-01, 2.03928147e-02],\n",
       "       [6.28835546e-02, 9.37116445e-01],\n",
       "       [8.85823929e-01, 1.14176071e-01],\n",
       "       [7.37302867e-02, 9.26269713e-01],\n",
       "       [9.73178664e-01, 2.68213357e-02],\n",
       "       [1.15222175e-03, 9.98847778e-01],\n",
       "       [9.77522089e-01, 2.24779114e-02],\n",
       "       [9.54923656e-01, 4.50763435e-02],\n",
       "       [9.89530170e-01, 1.04698302e-02],\n",
       "       [3.11340523e-01, 6.88659477e-01],\n",
       "       [9.21847457e-01, 7.81525432e-02],\n",
       "       [9.73834885e-01, 2.61651151e-02],\n",
       "       [9.25681469e-01, 7.43185313e-02],\n",
       "       [1.87799715e-03, 9.98122003e-01],\n",
       "       [9.88849970e-01, 1.11500304e-02],\n",
       "       [9.87400234e-01, 1.25997663e-02],\n",
       "       [9.88852268e-01, 1.11477318e-02],\n",
       "       [5.45909086e-05, 9.99945409e-01],\n",
       "       [9.90754548e-01, 9.24545221e-03],\n",
       "       [1.76660884e-05, 9.99982334e-01],\n",
       "       [1.98652031e-03, 9.98013480e-01],\n",
       "       [9.91017842e-01, 8.98215798e-03],\n",
       "       [9.79803257e-01, 2.01967429e-02],\n",
       "       [5.21990914e-03, 9.94780091e-01],\n",
       "       [9.81006179e-01, 1.89938214e-02],\n",
       "       [9.77936972e-01, 2.20630280e-02],\n",
       "       [9.76042969e-01, 2.39570313e-02],\n",
       "       [4.90974338e-02, 9.50902566e-01],\n",
       "       [6.78289819e-02, 9.32171018e-01],\n",
       "       [9.89993496e-01, 1.00065035e-02],\n",
       "       [9.89068537e-01, 1.09314627e-02],\n",
       "       [9.79948362e-01, 2.00516383e-02],\n",
       "       [9.18412361e-01, 8.15876388e-02],\n",
       "       [6.53899408e-02, 9.34610059e-01],\n",
       "       [1.32574953e-02, 9.86742505e-01],\n",
       "       [9.88010968e-01, 1.19890318e-02],\n",
       "       [9.89495270e-01, 1.05047301e-02],\n",
       "       [9.22267544e-01, 7.77324561e-02],\n",
       "       [1.93356816e-03, 9.98066432e-01],\n",
       "       [9.90874849e-01, 9.12515057e-03],\n",
       "       [9.90447202e-01, 9.55279791e-03],\n",
       "       [9.90435494e-01, 9.56450598e-03],\n",
       "       [9.89743918e-01, 1.02560824e-02],\n",
       "       [6.73693376e-02, 9.32630662e-01],\n",
       "       [2.79064009e-02, 9.72093599e-01],\n",
       "       [4.84534896e-02, 9.51546510e-01],\n",
       "       [9.90874849e-01, 9.12515057e-03],\n",
       "       [7.04063276e-02, 9.29593672e-01],\n",
       "       [9.88270480e-01, 1.17295198e-02],\n",
       "       [9.13091828e-01, 8.69081721e-02],\n",
       "       [9.90230304e-01, 9.76969615e-03],\n",
       "       [9.19082573e-01, 8.09174273e-02],\n",
       "       [9.79132132e-01, 2.08678681e-02],\n",
       "       [9.78419655e-01, 2.15803445e-02],\n",
       "       [3.08453857e-02, 9.69154614e-01],\n",
       "       [6.72750580e-02, 9.32724942e-01],\n",
       "       [6.72434077e-02, 9.32756592e-01],\n",
       "       [9.84797332e-01, 1.52026682e-02],\n",
       "       [9.90953455e-01, 9.04654486e-03],\n",
       "       [9.18618285e-01, 8.13817148e-02],\n",
       "       [3.26319288e-02, 9.67368071e-01],\n",
       "       [9.81885995e-01, 1.81140051e-02],\n",
       "       [2.85881203e-02, 9.71411880e-01],\n",
       "       [9.88403862e-01, 1.15961379e-02],\n",
       "       [5.80283424e-01, 4.19716576e-01],\n",
       "       [9.89245431e-01, 1.07545694e-02],\n",
       "       [5.18950952e-03, 9.94810490e-01],\n",
       "       [3.03882865e-02, 9.69611714e-01],\n",
       "       [9.88615843e-01, 1.13841567e-02],\n",
       "       [9.88561856e-01, 1.14381437e-02],\n",
       "       [9.76920088e-01, 2.30799121e-02],\n",
       "       [9.76353185e-01, 2.36468147e-02],\n",
       "       [9.90950230e-01, 9.04976991e-03],\n",
       "       [9.87358039e-01, 1.26419614e-02],\n",
       "       [9.23663844e-01, 7.63361562e-02],\n",
       "       [9.77292048e-01, 2.27079517e-02],\n",
       "       [9.90412245e-01, 9.58775489e-03],\n",
       "       [9.90046382e-01, 9.95361759e-03],\n",
       "       [6.17500244e-02, 9.38249976e-01],\n",
       "       [3.17359122e-02, 9.68264088e-01],\n",
       "       [5.41048471e-02, 9.45895153e-01],\n",
       "       [8.80071666e-01, 1.19928334e-01],\n",
       "       [9.78792494e-01, 2.12075063e-02],\n",
       "       [9.90707277e-01, 9.29272282e-03],\n",
       "       [9.90407379e-01, 9.59262088e-03],\n",
       "       [9.79355305e-01, 2.06446946e-02],\n",
       "       [9.88847353e-01, 1.11526474e-02],\n",
       "       [8.53529060e-01, 1.46470940e-01],\n",
       "       [9.78809935e-01, 2.11900645e-02],\n",
       "       [9.73178664e-01, 2.68213357e-02],\n",
       "       [9.90326615e-01, 9.67338519e-03],\n",
       "       [9.90412245e-01, 9.58775489e-03],\n",
       "       [3.80877458e-09, 9.99999996e-01],\n",
       "       [9.88873926e-01, 1.11260738e-02],\n",
       "       [9.90440810e-01, 9.55918953e-03],\n",
       "       [9.90412245e-01, 9.58775489e-03],\n",
       "       [9.81318217e-01, 1.86817830e-02],\n",
       "       [5.02443936e-03, 9.94975561e-01],\n",
       "       [9.90408103e-01, 9.59189657e-03],\n",
       "       [9.76058720e-01, 2.39412805e-02],\n",
       "       [1.09988450e-08, 9.99999989e-01],\n",
       "       [9.90456184e-01, 9.54381587e-03],\n",
       "       [6.56260268e-02, 9.34373973e-01],\n",
       "       [9.08565010e-01, 9.14349901e-02],\n",
       "       [9.88861791e-01, 1.11382095e-02],\n",
       "       [9.89129732e-01, 1.08702677e-02],\n",
       "       [9.91019289e-01, 8.98071105e-03],\n",
       "       [2.40543068e-02, 9.75945693e-01],\n",
       "       [9.80881615e-01, 1.91183848e-02],\n",
       "       [9.77420590e-01, 2.25794096e-02],\n",
       "       [3.92991624e-02, 9.60700838e-01],\n",
       "       [2.57609369e-02, 9.74239063e-01],\n",
       "       [9.88014677e-01, 1.19853231e-02],\n",
       "       [9.90483384e-01, 9.51661614e-03],\n",
       "       [9.77380334e-01, 2.26196662e-02],\n",
       "       [9.90392157e-01, 9.60784258e-03],\n",
       "       [9.09539657e-01, 9.04603433e-02],\n",
       "       [9.78459165e-01, 2.15408350e-02],\n",
       "       [8.21651888e-01, 1.78348112e-01],\n",
       "       [7.38756413e-01, 2.61243587e-01],\n",
       "       [9.19226473e-01, 8.07735274e-02],\n",
       "       [9.90412245e-01, 9.58775489e-03],\n",
       "       [1.09664923e-02, 9.89033508e-01],\n",
       "       [9.90416472e-01, 9.58352771e-03],\n",
       "       [9.89706913e-01, 1.02930868e-02],\n",
       "       [9.89703203e-01, 1.02967968e-02],\n",
       "       [9.27388297e-01, 7.26117027e-02],\n",
       "       [6.71881506e-02, 9.32811849e-01],\n",
       "       [3.62604128e-40, 1.00000000e+00]])"
      ]
     },
     "execution_count": 39,
     "metadata": {},
     "output_type": "execute_result"
    }
   ],
   "source": [
    "model.predict_proba(X_test)"
   ]
  },
  {
   "cell_type": "code",
   "execution_count": null,
   "id": "0dbcbfcd",
   "metadata": {},
   "outputs": [],
   "source": []
  }
 ],
 "metadata": {
  "kernelspec": {
   "display_name": "Python 3 (ipykernel)",
   "language": "python",
   "name": "python3"
  },
  "language_info": {
   "codemirror_mode": {
    "name": "ipython",
    "version": 3
   },
   "file_extension": ".py",
   "mimetype": "text/x-python",
   "name": "python",
   "nbconvert_exporter": "python",
   "pygments_lexer": "ipython3",
   "version": "3.11.1"
  }
 },
 "nbformat": 4,
 "nbformat_minor": 5
}
